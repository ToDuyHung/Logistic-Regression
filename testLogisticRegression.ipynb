{
  "nbformat": 4,
  "nbformat_minor": 0,
  "metadata": {
    "kernelspec": {
      "display_name": "Python 2",
      "language": "python",
      "name": "python2"
    },
    "language_info": {
      "codemirror_mode": {
        "name": "ipython",
        "version": 2
      },
      "file_extension": ".py",
      "mimetype": "text/x-python",
      "name": "python",
      "nbconvert_exporter": "python",
      "pygments_lexer": "ipython2",
      "version": "2.7.12"
    },
    "colab": {
      "name": "testLogisticRegression.ipynb",
      "provenance": [],
      "collapsed_sections": [],
      "toc_visible": true
    }
  },
  "cells": [
    {
      "cell_type": "markdown",
      "metadata": {
        "id": "y8StocTrXtFP",
        "colab_type": "text"
      },
      "source": [
        "**1. Import libraries**"
      ]
    },
    {
      "cell_type": "code",
      "metadata": {
        "id": "U5TCyecktaUw",
        "colab_type": "code",
        "colab": {}
      },
      "source": [
        "import os\n",
        "import pandas as pd\n",
        "import numpy as np\n",
        "import matplotlib.pyplot as plt\n",
        "from matplotlib import cm\n",
        "from matplotlib.ticker import LinearLocator, FormatStrFormatter\n",
        "from mpl_toolkits.mplot3d import Axes3D"
      ],
      "execution_count": 13,
      "outputs": []
    },
    {
      "cell_type": "markdown",
      "metadata": {
        "id": "f5ICiX1lXxto",
        "colab_type": "text"
      },
      "source": [
        "**2. Define interations and learning rate for Gradient Descent**"
      ]
    },
    {
      "cell_type": "code",
      "metadata": {
        "id": "x9GOvDqxy-Vc",
        "colab_type": "code",
        "colab": {}
      },
      "source": [
        "# number of interations in Gradient Descent\n",
        "INTERATIONS = 200000\n",
        "# learning rate\n",
        "ETA = 0.001"
      ],
      "execution_count": 14,
      "outputs": []
    },
    {
      "cell_type": "markdown",
      "metadata": {
        "id": "t2S0QJeRtaVH",
        "colab_type": "text"
      },
      "source": [
        "**3. Plot data from data.csv**"
      ]
    },
    {
      "cell_type": "code",
      "metadata": {
        "id": "-IhD62xbWx8v",
        "colab_type": "code",
        "colab": {
          "base_uri": "https://localhost:8080/",
          "height": 1000
        },
        "outputId": "7ed961b4-ec88-4040-814e-41322af2ea08"
      },
      "source": [
        "url = \"https://raw.githubusercontent.com/ToDuyHung/testLogisticRegression/master/data.csv\"      \n",
        "df  = pd.read_csv(url)\n",
        "df"
      ],
      "execution_count": 15,
      "outputs": [
        {
          "output_type": "execute_result",
          "data": {
            "text/plain": [
              "    literature  math  pass\n",
              "0           35    78     0\n",
              "1           30    44     0\n",
              "2           36    73     0\n",
              "3           60    86     1\n",
              "4           79    75     1\n",
              "5           45    56     0\n",
              "6           61    97     1\n",
              "7           75    47     1\n",
              "8           76    87     1\n",
              "9           84    44     1\n",
              "10          96    38     0\n",
              "11          75    31     0\n",
              "12          82    76     1\n",
              "13          69    98     1\n",
              "14          40    76     0\n",
              "15          54    89     1\n",
              "16          69    53     1\n",
              "17          68    47     0\n",
              "18          71    93     1\n",
              "19          77    48     1\n",
              "20          67    43     0\n",
              "21          90    66     1\n",
              "22          51    49     0\n",
              "23          34    44     0\n",
              "24          78    69     1\n",
              "25          62    70     1\n",
              "26          80    45     1\n",
              "27          93    39     0\n",
              "28          62    50     0\n",
              "29          39    65     0\n",
              "..         ...   ...   ...\n",
              "70          33    43     0\n",
              "71          64    78     1\n",
              "72          72    96     1\n",
              "73          60    73     1\n",
              "74          59    76     1\n",
              "75         100    72     1\n",
              "76          47    88     1\n",
              "77          50    76     1\n",
              "78          60    43     0\n",
              "79          82    43     0\n",
              "80          89    70     1\n",
              "81          95    46     1\n",
              "82          67    67     1\n",
              "83          57    60     1\n",
              "84          80    91     1\n",
              "85          68    86     1\n",
              "86          42    79     0\n",
              "87          75    90     1\n",
              "88          79    97     1\n",
              "89          52    61     0\n",
              "90          94    77     1\n",
              "91          90    88     1\n",
              "92          55    36     0\n",
              "93          74    85     1\n",
              "94          90    45     1\n",
              "95          83    48     1\n",
              "96          42    87     1\n",
              "97          99    69     1\n",
              "98          55    65     1\n",
              "99          75    90     1\n",
              "\n",
              "[100 rows x 3 columns]"
            ],
            "text/html": [
              "<div>\n",
              "<style scoped>\n",
              "    .dataframe tbody tr th:only-of-type {\n",
              "        vertical-align: middle;\n",
              "    }\n",
              "\n",
              "    .dataframe tbody tr th {\n",
              "        vertical-align: top;\n",
              "    }\n",
              "\n",
              "    .dataframe thead th {\n",
              "        text-align: right;\n",
              "    }\n",
              "</style>\n",
              "<table border=\"1\" class=\"dataframe\">\n",
              "  <thead>\n",
              "    <tr style=\"text-align: right;\">\n",
              "      <th></th>\n",
              "      <th>literature</th>\n",
              "      <th>math</th>\n",
              "      <th>pass</th>\n",
              "    </tr>\n",
              "  </thead>\n",
              "  <tbody>\n",
              "    <tr>\n",
              "      <th>0</th>\n",
              "      <td>35</td>\n",
              "      <td>78</td>\n",
              "      <td>0</td>\n",
              "    </tr>\n",
              "    <tr>\n",
              "      <th>1</th>\n",
              "      <td>30</td>\n",
              "      <td>44</td>\n",
              "      <td>0</td>\n",
              "    </tr>\n",
              "    <tr>\n",
              "      <th>2</th>\n",
              "      <td>36</td>\n",
              "      <td>73</td>\n",
              "      <td>0</td>\n",
              "    </tr>\n",
              "    <tr>\n",
              "      <th>3</th>\n",
              "      <td>60</td>\n",
              "      <td>86</td>\n",
              "      <td>1</td>\n",
              "    </tr>\n",
              "    <tr>\n",
              "      <th>4</th>\n",
              "      <td>79</td>\n",
              "      <td>75</td>\n",
              "      <td>1</td>\n",
              "    </tr>\n",
              "    <tr>\n",
              "      <th>5</th>\n",
              "      <td>45</td>\n",
              "      <td>56</td>\n",
              "      <td>0</td>\n",
              "    </tr>\n",
              "    <tr>\n",
              "      <th>6</th>\n",
              "      <td>61</td>\n",
              "      <td>97</td>\n",
              "      <td>1</td>\n",
              "    </tr>\n",
              "    <tr>\n",
              "      <th>7</th>\n",
              "      <td>75</td>\n",
              "      <td>47</td>\n",
              "      <td>1</td>\n",
              "    </tr>\n",
              "    <tr>\n",
              "      <th>8</th>\n",
              "      <td>76</td>\n",
              "      <td>87</td>\n",
              "      <td>1</td>\n",
              "    </tr>\n",
              "    <tr>\n",
              "      <th>9</th>\n",
              "      <td>84</td>\n",
              "      <td>44</td>\n",
              "      <td>1</td>\n",
              "    </tr>\n",
              "    <tr>\n",
              "      <th>10</th>\n",
              "      <td>96</td>\n",
              "      <td>38</td>\n",
              "      <td>0</td>\n",
              "    </tr>\n",
              "    <tr>\n",
              "      <th>11</th>\n",
              "      <td>75</td>\n",
              "      <td>31</td>\n",
              "      <td>0</td>\n",
              "    </tr>\n",
              "    <tr>\n",
              "      <th>12</th>\n",
              "      <td>82</td>\n",
              "      <td>76</td>\n",
              "      <td>1</td>\n",
              "    </tr>\n",
              "    <tr>\n",
              "      <th>13</th>\n",
              "      <td>69</td>\n",
              "      <td>98</td>\n",
              "      <td>1</td>\n",
              "    </tr>\n",
              "    <tr>\n",
              "      <th>14</th>\n",
              "      <td>40</td>\n",
              "      <td>76</td>\n",
              "      <td>0</td>\n",
              "    </tr>\n",
              "    <tr>\n",
              "      <th>15</th>\n",
              "      <td>54</td>\n",
              "      <td>89</td>\n",
              "      <td>1</td>\n",
              "    </tr>\n",
              "    <tr>\n",
              "      <th>16</th>\n",
              "      <td>69</td>\n",
              "      <td>53</td>\n",
              "      <td>1</td>\n",
              "    </tr>\n",
              "    <tr>\n",
              "      <th>17</th>\n",
              "      <td>68</td>\n",
              "      <td>47</td>\n",
              "      <td>0</td>\n",
              "    </tr>\n",
              "    <tr>\n",
              "      <th>18</th>\n",
              "      <td>71</td>\n",
              "      <td>93</td>\n",
              "      <td>1</td>\n",
              "    </tr>\n",
              "    <tr>\n",
              "      <th>19</th>\n",
              "      <td>77</td>\n",
              "      <td>48</td>\n",
              "      <td>1</td>\n",
              "    </tr>\n",
              "    <tr>\n",
              "      <th>20</th>\n",
              "      <td>67</td>\n",
              "      <td>43</td>\n",
              "      <td>0</td>\n",
              "    </tr>\n",
              "    <tr>\n",
              "      <th>21</th>\n",
              "      <td>90</td>\n",
              "      <td>66</td>\n",
              "      <td>1</td>\n",
              "    </tr>\n",
              "    <tr>\n",
              "      <th>22</th>\n",
              "      <td>51</td>\n",
              "      <td>49</td>\n",
              "      <td>0</td>\n",
              "    </tr>\n",
              "    <tr>\n",
              "      <th>23</th>\n",
              "      <td>34</td>\n",
              "      <td>44</td>\n",
              "      <td>0</td>\n",
              "    </tr>\n",
              "    <tr>\n",
              "      <th>24</th>\n",
              "      <td>78</td>\n",
              "      <td>69</td>\n",
              "      <td>1</td>\n",
              "    </tr>\n",
              "    <tr>\n",
              "      <th>25</th>\n",
              "      <td>62</td>\n",
              "      <td>70</td>\n",
              "      <td>1</td>\n",
              "    </tr>\n",
              "    <tr>\n",
              "      <th>26</th>\n",
              "      <td>80</td>\n",
              "      <td>45</td>\n",
              "      <td>1</td>\n",
              "    </tr>\n",
              "    <tr>\n",
              "      <th>27</th>\n",
              "      <td>93</td>\n",
              "      <td>39</td>\n",
              "      <td>0</td>\n",
              "    </tr>\n",
              "    <tr>\n",
              "      <th>28</th>\n",
              "      <td>62</td>\n",
              "      <td>50</td>\n",
              "      <td>0</td>\n",
              "    </tr>\n",
              "    <tr>\n",
              "      <th>29</th>\n",
              "      <td>39</td>\n",
              "      <td>65</td>\n",
              "      <td>0</td>\n",
              "    </tr>\n",
              "    <tr>\n",
              "      <th>...</th>\n",
              "      <td>...</td>\n",
              "      <td>...</td>\n",
              "      <td>...</td>\n",
              "    </tr>\n",
              "    <tr>\n",
              "      <th>70</th>\n",
              "      <td>33</td>\n",
              "      <td>43</td>\n",
              "      <td>0</td>\n",
              "    </tr>\n",
              "    <tr>\n",
              "      <th>71</th>\n",
              "      <td>64</td>\n",
              "      <td>78</td>\n",
              "      <td>1</td>\n",
              "    </tr>\n",
              "    <tr>\n",
              "      <th>72</th>\n",
              "      <td>72</td>\n",
              "      <td>96</td>\n",
              "      <td>1</td>\n",
              "    </tr>\n",
              "    <tr>\n",
              "      <th>73</th>\n",
              "      <td>60</td>\n",
              "      <td>73</td>\n",
              "      <td>1</td>\n",
              "    </tr>\n",
              "    <tr>\n",
              "      <th>74</th>\n",
              "      <td>59</td>\n",
              "      <td>76</td>\n",
              "      <td>1</td>\n",
              "    </tr>\n",
              "    <tr>\n",
              "      <th>75</th>\n",
              "      <td>100</td>\n",
              "      <td>72</td>\n",
              "      <td>1</td>\n",
              "    </tr>\n",
              "    <tr>\n",
              "      <th>76</th>\n",
              "      <td>47</td>\n",
              "      <td>88</td>\n",
              "      <td>1</td>\n",
              "    </tr>\n",
              "    <tr>\n",
              "      <th>77</th>\n",
              "      <td>50</td>\n",
              "      <td>76</td>\n",
              "      <td>1</td>\n",
              "    </tr>\n",
              "    <tr>\n",
              "      <th>78</th>\n",
              "      <td>60</td>\n",
              "      <td>43</td>\n",
              "      <td>0</td>\n",
              "    </tr>\n",
              "    <tr>\n",
              "      <th>79</th>\n",
              "      <td>82</td>\n",
              "      <td>43</td>\n",
              "      <td>0</td>\n",
              "    </tr>\n",
              "    <tr>\n",
              "      <th>80</th>\n",
              "      <td>89</td>\n",
              "      <td>70</td>\n",
              "      <td>1</td>\n",
              "    </tr>\n",
              "    <tr>\n",
              "      <th>81</th>\n",
              "      <td>95</td>\n",
              "      <td>46</td>\n",
              "      <td>1</td>\n",
              "    </tr>\n",
              "    <tr>\n",
              "      <th>82</th>\n",
              "      <td>67</td>\n",
              "      <td>67</td>\n",
              "      <td>1</td>\n",
              "    </tr>\n",
              "    <tr>\n",
              "      <th>83</th>\n",
              "      <td>57</td>\n",
              "      <td>60</td>\n",
              "      <td>1</td>\n",
              "    </tr>\n",
              "    <tr>\n",
              "      <th>84</th>\n",
              "      <td>80</td>\n",
              "      <td>91</td>\n",
              "      <td>1</td>\n",
              "    </tr>\n",
              "    <tr>\n",
              "      <th>85</th>\n",
              "      <td>68</td>\n",
              "      <td>86</td>\n",
              "      <td>1</td>\n",
              "    </tr>\n",
              "    <tr>\n",
              "      <th>86</th>\n",
              "      <td>42</td>\n",
              "      <td>79</td>\n",
              "      <td>0</td>\n",
              "    </tr>\n",
              "    <tr>\n",
              "      <th>87</th>\n",
              "      <td>75</td>\n",
              "      <td>90</td>\n",
              "      <td>1</td>\n",
              "    </tr>\n",
              "    <tr>\n",
              "      <th>88</th>\n",
              "      <td>79</td>\n",
              "      <td>97</td>\n",
              "      <td>1</td>\n",
              "    </tr>\n",
              "    <tr>\n",
              "      <th>89</th>\n",
              "      <td>52</td>\n",
              "      <td>61</td>\n",
              "      <td>0</td>\n",
              "    </tr>\n",
              "    <tr>\n",
              "      <th>90</th>\n",
              "      <td>94</td>\n",
              "      <td>77</td>\n",
              "      <td>1</td>\n",
              "    </tr>\n",
              "    <tr>\n",
              "      <th>91</th>\n",
              "      <td>90</td>\n",
              "      <td>88</td>\n",
              "      <td>1</td>\n",
              "    </tr>\n",
              "    <tr>\n",
              "      <th>92</th>\n",
              "      <td>55</td>\n",
              "      <td>36</td>\n",
              "      <td>0</td>\n",
              "    </tr>\n",
              "    <tr>\n",
              "      <th>93</th>\n",
              "      <td>74</td>\n",
              "      <td>85</td>\n",
              "      <td>1</td>\n",
              "    </tr>\n",
              "    <tr>\n",
              "      <th>94</th>\n",
              "      <td>90</td>\n",
              "      <td>45</td>\n",
              "      <td>1</td>\n",
              "    </tr>\n",
              "    <tr>\n",
              "      <th>95</th>\n",
              "      <td>83</td>\n",
              "      <td>48</td>\n",
              "      <td>1</td>\n",
              "    </tr>\n",
              "    <tr>\n",
              "      <th>96</th>\n",
              "      <td>42</td>\n",
              "      <td>87</td>\n",
              "      <td>1</td>\n",
              "    </tr>\n",
              "    <tr>\n",
              "      <th>97</th>\n",
              "      <td>99</td>\n",
              "      <td>69</td>\n",
              "      <td>1</td>\n",
              "    </tr>\n",
              "    <tr>\n",
              "      <th>98</th>\n",
              "      <td>55</td>\n",
              "      <td>65</td>\n",
              "      <td>1</td>\n",
              "    </tr>\n",
              "    <tr>\n",
              "      <th>99</th>\n",
              "      <td>75</td>\n",
              "      <td>90</td>\n",
              "      <td>1</td>\n",
              "    </tr>\n",
              "  </tbody>\n",
              "</table>\n",
              "<p>100 rows × 3 columns</p>\n",
              "</div>"
            ]
          },
          "metadata": {
            "tags": []
          },
          "execution_count": 15
        }
      ]
    },
    {
      "cell_type": "code",
      "metadata": {
        "id": "T7xxe7c64ka-",
        "colab_type": "code",
        "colab": {
          "base_uri": "https://localhost:8080/",
          "height": 317
        },
        "outputId": "a0bf2800-db02-4ec0-da87-eea2d242cc46"
      },
      "source": [
        "# plot data\n",
        "df_0 = df[df['pass'] == 0]\n",
        "df_1 = df[df['pass'] == 1]\n",
        "print('The blue circle represents the students who fail')\n",
        "print('The red cross represents the students who pass')\n",
        "df_0.plot(x='literature', y='math', legend=False, marker='o', style='o', mec='b', mfc='w')\n",
        "plt.plot(df_1.literature, df_1.math, marker='x', linestyle='None', mec='r', mfc='w')\n",
        "plt.xlabel('literature'); plt.ylabel('math'); plt.show()\n",
        "\n",
        "# extract X,y\n",
        "X = df.values[:, 0:2]\n",
        "y = df.values[:,2]\n",
        "m = y.size # number of training samples\n",
        "# add X_0 to X\n",
        "X = np.concatenate((np.ones((m,1)), X.reshape(-1,2)), axis=1)"
      ],
      "execution_count": 16,
      "outputs": [
        {
          "output_type": "stream",
          "text": [
            "The blue circle represents the students who fail\n",
            "The red cross represents the students who pass\n"
          ],
          "name": "stdout"
        },
        {
          "output_type": "display_data",
          "data": {
            "image/png": "[encoded data removed]",
            "text/plain": [
              "<Figure size 432x288 with 1 Axes>"
            ]
          },
          "metadata": {
            "tags": [],
            "needs_background": "light"
          }
        }
      ]
    },
    {
      "cell_type": "markdown",
      "metadata": {
        "id": "DQM2HyuttaVe",
        "colab_type": "text"
      },
      "source": [
        "**4. Build sigmoid function**"
      ]
    },
    {
      "cell_type": "code",
      "metadata": {
        "id": "EHGpvtveYGpm",
        "colab_type": "code",
        "colab": {}
      },
      "source": [
        "def sigmoid(z):\n",
        "    return 1.0 / (1.0 + np.exp(-z))"
      ],
      "execution_count": 17,
      "outputs": []
    },
    {
      "cell_type": "markdown",
      "metadata": {
        "id": "rclhJruqYIvt",
        "colab_type": "text"
      },
      "source": [
        "**5. Build loss function J**"
      ]
    },
    {
      "cell_type": "code",
      "metadata": {
        "id": "ywkez8XxtaVi",
        "colab_type": "code",
        "colab": {}
      },
      "source": [
        "def loss_function(X, y, theta):\n",
        "    # number of training samples\n",
        "    m = y.size\n",
        "    # activation\n",
        "    h = sigmoid(np.dot(X, theta))\n",
        "    # loss\n",
        "    j = - np.sum(y * np.log(h) + (1 -  y) * np.log(1 - h)) / m\n",
        "    return j"
      ],
      "execution_count": 18,
      "outputs": []
    },
    {
      "cell_type": "markdown",
      "metadata": {
        "id": "l4kssmD9taV8",
        "colab_type": "text"
      },
      "source": [
        "**6. Build Gradient Descent**"
      ]
    },
    {
      "cell_type": "code",
      "metadata": {
        "id": "lTcncOXytaV_",
        "colab_type": "code",
        "colab": {}
      },
      "source": [
        "def gradient_descent(X, y, theta, eta, num_inters):\n",
        "    m = y.size\n",
        "    jHistory = np.empty(num_inters)\n",
        "\n",
        "    for i in range(num_inters):\n",
        "        delta = np.dot(X.T, sigmoid(np.dot(X, theta))- y) / m\n",
        "        theta -= eta * delta\n",
        "        jHistory[i] = loss_function(X, y, theta)\n",
        "    \n",
        "    return theta, jHistory"
      ],
      "execution_count": 19,
      "outputs": []
    },
    {
      "cell_type": "markdown",
      "metadata": {
        "id": "IQxcXc68taWv",
        "colab_type": "text"
      },
      "source": [
        "**7. Learn parameters**"
      ]
    },
    {
      "cell_type": "code",
      "metadata": {
        "id": "cc3LrHfUtaWy",
        "colab_type": "code",
        "colab": {
          "base_uri": "https://localhost:8080/",
          "height": 350
        },
        "outputId": "725cf6fc-8e1a-490c-9a7d-87b917783da7"
      },
      "source": [
        "theta, jHistory = gradient_descent(X, y, np.zeros(X.shape[1]), ETA, INTERATIONS)\n",
        "print('[w0,w1,w2] = ')\n",
        "print(theta)\n",
        "print('------')\n",
        "# plot J\n",
        "print('J after Gradient Descent')\n",
        "plt.plot(range(jHistory.size), jHistory, color='g')\n",
        "plt.xlabel('n'); plt.ylabel('J'); plt.show()"
      ],
      "execution_count": 20,
      "outputs": [
        {
          "output_type": "stream",
          "text": [
            "[w0,w1,w2] = \n",
            "[-7.43058839  0.0651809   0.058998  ]\n",
            "------\n",
            "J after Gradient Descent\n"
          ],
          "name": "stdout"
        },
        {
          "output_type": "display_data",
          "data": {
            "image/png": "[encoded data removed]",
            "text/plain": [
              "<Figure size 432x288 with 1 Axes>"
            ]
          },
          "metadata": {
            "tags": [],
            "needs_background": "light"
          }
        }
      ]
    },
    {
      "cell_type": "markdown",
      "metadata": {
        "id": "YZARMGujtaXH",
        "colab_type": "text"
      },
      "source": [
        "**8. Plot results**"
      ]
    },
    {
      "cell_type": "code",
      "metadata": {
        "id": "Uat6lVsCtaXM",
        "colab_type": "code",
        "colab": {
          "base_uri": "https://localhost:8080/",
          "height": 317
        },
        "outputId": "0bc5c204-59f9-4114-f6ed-4ff4eddbf147"
      },
      "source": [
        "# training data\n",
        "df_0.plot(x='literature', y='math', legend=False, marker='o', style='o', mec='b', mfc='w')\n",
        "plt.plot(df_1.literature, df_1.math, marker='x', linestyle='None', mec='r', mfc='w')\n",
        "\n",
        "# decision line\n",
        "x = np.linspace(30.0, 100.0, num=100)\n",
        "y = np.empty((100, 100))\n",
        "for i in range(100):\n",
        "    for j in range(100):\n",
        "        y[i][j] = sigmoid(np.dot(np.array([1.0, x[i], x[j]]).T, theta))\n",
        "plt.contour(x, x, y, levels=[0.0, 0.5])\n",
        "\n",
        "# plot result\n",
        "print('The blue circle represents the students who fail')\n",
        "print('The red cross represents the students who pass')\n",
        "plt.xlabel('literature'); plt.ylabel('math'); plt.show()"
      ],
      "execution_count": 21,
      "outputs": [
        {
          "output_type": "stream",
          "text": [
            "The blue circle represents the students who fail\n",
            "The red cross represents the students who pass\n"
          ],
          "name": "stdout"
        },
        {
          "output_type": "display_data",
          "data": {
            "image/png": "[encoded data removed]",
            "text/plain": [
              "<Figure size 432x288 with 1 Axes>"
            ]
          },
          "metadata": {
            "tags": [],
            "needs_background": "light"
          }
        }
      ]
    }
  ]
}